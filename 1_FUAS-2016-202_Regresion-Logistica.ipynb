{
 "cells": [
  {
   "cell_type": "markdown",
   "id": "4533429f",
   "metadata": {},
   "source": [
    "https://www.cienciadedatos.net/documentos/py17-regresion-logistica-python.html"
   ]
  },
  {
   "cell_type": "code",
   "execution_count": 1,
   "id": "e5f09bf0",
   "metadata": {},
   "outputs": [],
   "source": [
    "# Tratamiento de datos\n",
    "# ==============================================================================\n",
    "import pandas as pd\n",
    "import numpy as np\n",
    "\n",
    "# Gráficos\n",
    "# ==============================================================================\n",
    "import matplotlib.pyplot as plt\n",
    "#from matplotlib import style\n",
    "#import seaborn as sns\n",
    "\n",
    "# Preprocesado y modelado\n",
    "# ==============================================================================\n",
    "from sklearn.linear_model import LogisticRegression\n",
    "from sklearn.model_selection import train_test_split\n",
    "#from sklearn.metrics import accuracy_score\n",
    "#from sklearn.metrics import plot_confusion_matrix\n",
    "import statsmodels.api as sm\n",
    "#import statsmodels.formula.api as smf\n",
    "from sklearn.metrics import roc_auc_score, accuracy_score, f1_score, confusion_matrix, classification_report\n",
    "from sklearn.metrics import mean_squared_error\n",
    "from sklearn.linear_model import RidgeCV\n",
    "from sklearn.linear_model import Ridge\n",
    "\n",
    "# Configuración matplotlib\n",
    "# ==============================================================================\n",
    "#plt.rcParams['image.cmap'] = \"bwr\"\n",
    "#plt.rcParams['figure.dpi'] = \"100\"\n",
    "#plt.rcParams['savefig.bbox'] = \"tight\"\n",
    "#style.use('ggplot') or plt.style.use('ggplot')\n",
    "\n",
    "# Configuración warnings\n",
    "# ==============================================================================\n",
    "import warnings\n",
    "warnings.filterwarnings('ignore')"
   ]
  },
  {
   "cell_type": "code",
   "execution_count": 2,
   "id": "9911cfc6",
   "metadata": {},
   "outputs": [],
   "source": [
    "datos = pd.read_csv('rutUnicos_final.csv', sep=\";\")"
   ]
  },
  {
   "cell_type": "code",
   "execution_count": 3,
   "id": "10bf16a4",
   "metadata": {},
   "outputs": [
    {
     "name": "stdout",
     "output_type": "stream",
     "text": [
      "Número de observaciones por clase\n",
      "0    1348934\n",
      "1     654483\n",
      "Name: Gana_Gratuidad_final, dtype: int64\n",
      "\n",
      "Porcentaje de observaciones por clase\n",
      "0    67.331664\n",
      "1    32.668336\n",
      "Name: Gana_Gratuidad_final, dtype: float64\n"
     ]
    }
   ],
   "source": [
    "print(\"Número de observaciones por clase\")\n",
    "print(datos['Gana_Gratuidad_final'].value_counts())\n",
    "print(\"\")\n",
    "\n",
    "print(\"Porcentaje de observaciones por clase\")\n",
    "print(100 * datos['Gana_Gratuidad_final'].value_counts(normalize=True))"
   ]
  },
  {
   "cell_type": "code",
   "execution_count": 4,
   "id": "b26d5301",
   "metadata": {},
   "outputs": [],
   "source": [
    "# Reemplazo variables categoricas, utilizaremos LabelEncoder\n",
    "#========================================================================\n",
    "from sklearn.preprocessing import LabelEncoder, OneHotEncoder, MinMaxScaler, Normalizer\n",
    "Columnas_Categoricas=['Mensualidad_Establecimiento_final', 'Region_Establecimiento_final','Segunda_Institucion_ES_final']\n",
    "df_prep=datos\n",
    "LabelsEnc = LabelEncoder()\n",
    "for i in Columnas_Categoricas:\n",
    "  df_prep[i] = LabelsEnc.fit_transform(datos[i])\n",
    "datos=df_prep"
   ]
  },
  {
   "cell_type": "code",
   "execution_count": 7,
   "id": "baf81e3b",
   "metadata": {},
   "outputs": [],
   "source": [
    "# División de los datos en train y test PARA GRATUIDAD\n",
    "# ==============================================================================\n",
    "X = datos[['Anio_Nacimiento_final','Anios_Duracion_Carrera_Origen_final','Cantidad_asignaciones_final','Quintil_Final','Tipo_Carrera_Origen_cod']]\n",
    "y = datos['Gana_Gratuidad_final']\n",
    "X_train, X_test, y_train, y_test = train_test_split(\n",
    "                                        X,\n",
    "                                        y.values.reshape(-1,1),\n",
    "                                        train_size   = 0.8, #regla 80-20%\n",
    "                                        random_state = 1234,\n",
    "                                        shuffle      = True\n",
    "                                    )"
   ]
  },
  {
   "cell_type": "code",
   "execution_count": 8,
   "id": "bfa6d926",
   "metadata": {},
   "outputs": [
    {
     "name": "stdout",
     "output_type": "stream",
     "text": [
      "Optimization terminated successfully.\n",
      "         Current function value: 0.340347\n",
      "         Iterations 7\n",
      "                                   Results: Logit\n",
      "=====================================================================================\n",
      "Model:                    Logit                  Pseudo R-squared:       0.461       \n",
      "Dependent Variable:       y                      AIC:                    1090983.8496\n",
      "Date:                     2021-07-27 15:50       BIC:                    1091057.5729\n",
      "No. Observations:         1602733                Log-Likelihood:         -5.4549e+05 \n",
      "Df Model:                 5                      LL-Null:                -1.0129e+06 \n",
      "Df Residuals:             1602727                LLR p-value:            0.0000      \n",
      "Converged:                1.0000                 Scale:                  1.0000      \n",
      "No. Iterations:           7.0000                                                     \n",
      "-------------------------------------------------------------------------------------\n",
      "                                     Coef.  Std.Err.     z     P>|z|   [0.025  0.975]\n",
      "-------------------------------------------------------------------------------------\n",
      "const                               -4.4134   0.0127 -347.3418 0.0000 -4.4383 -4.3885\n",
      "Anio_Nacimiento_final                0.0022   0.0000  323.6844 0.0000  0.0022  0.0022\n",
      "Anios_Duracion_Carrera_Origen_final  0.8677   0.0024  358.0574 0.0000  0.8629  0.8724\n",
      "Cantidad_asignaciones_final          0.8346   0.0019  434.2365 0.0000  0.8309  0.8384\n",
      "Quintil_Final                       -1.1319   0.0035 -327.6362 0.0000 -1.1386 -1.1251\n",
      "Tipo_Carrera_Origen_cod             -1.8639   0.0050 -372.7145 0.0000 -1.8737 -1.8541\n",
      "=====================================================================================\n",
      "\n"
     ]
    }
   ],
   "source": [
    "# Creación del modelo utilizando matrices como en scikitlearn\n",
    "# ==============================================================================\n",
    "# A la matriz de predictores se le tiene que añadir una columna de 1s para el intercept del modelo\n",
    "X_train = sm.add_constant(X_train, prepend=True)\n",
    "modelo = sm.Logit(endog=y_train, exog=X_train)\n",
    "modelo = modelo.fit()\n",
    "print(modelo.summary2())"
   ]
  },
  {
   "cell_type": "code",
   "execution_count": 9,
   "id": "8b2d842f",
   "metadata": {},
   "outputs": [
    {
     "name": "stdout",
     "output_type": "stream",
     "text": [
      "                           Logit Regression Results                           \n",
      "==============================================================================\n",
      "Dep. Variable:                      y   No. Observations:              1602733\n",
      "Model:                          Logit   Df Residuals:                  1602727\n",
      "Method:                           MLE   Df Model:                            5\n",
      "Date:                Tue, 27 Jul 2021   Pseudo R-squ.:                  0.4614\n",
      "Time:                        15:50:07   Log-Likelihood:            -5.4549e+05\n",
      "converged:                       True   LL-Null:                   -1.0129e+06\n",
      "Covariance Type:            nonrobust   LLR p-value:                     0.000\n",
      "=======================================================================================================\n",
      "                                          coef    std err          z      P>|z|      [0.025      0.975]\n",
      "-------------------------------------------------------------------------------------------------------\n",
      "const                                  -4.4134      0.013   -347.342      0.000      -4.438      -4.389\n",
      "Anio_Nacimiento_final                   0.0022   6.75e-06    323.684      0.000       0.002       0.002\n",
      "Anios_Duracion_Carrera_Origen_final     0.8677      0.002    358.057      0.000       0.863       0.872\n",
      "Cantidad_asignaciones_final             0.8346      0.002    434.236      0.000       0.831       0.838\n",
      "Quintil_Final                          -1.1319      0.003   -327.636      0.000      -1.139      -1.125\n",
      "Tipo_Carrera_Origen_cod                -1.8639      0.005   -372.714      0.000      -1.874      -1.854\n",
      "=======================================================================================================\n"
     ]
    }
   ],
   "source": [
    "#modelo = modelo.fit()\n",
    "print(modelo.summary())"
   ]
  },
  {
   "cell_type": "code",
   "execution_count": 8,
   "id": "9c82e49a",
   "metadata": {},
   "outputs": [
    {
     "name": "stdout",
     "output_type": "stream",
     "text": [
      "El accuracy de test es: 83.50595481726248%\n"
     ]
    }
   ],
   "source": [
    "# Accuracy de test del modelo \n",
    "# ==============================================================================\n",
    "X_test = sm.add_constant(X_test, prepend=True)\n",
    "predicciones = modelo.predict(exog = X_test)\n",
    "clasificacion = np.where(predicciones<0.5, 0, 1)\n",
    "accuracy = accuracy_score(\n",
    "            y_true    = y_test,\n",
    "            y_pred    = clasificacion,\n",
    "            normalize = True\n",
    "           )\n",
    "print(f\"El accuracy de test es: {100*accuracy}%\")"
   ]
  },
  {
   "cell_type": "code",
   "execution_count": 9,
   "id": "8446af4f",
   "metadata": {},
   "outputs": [
    {
     "name": "stdout",
     "output_type": "stream",
     "text": [
      "\n",
      "El error (rmse) de test es: 0.40612861488372765\n"
     ]
    }
   ],
   "source": [
    "# Error de test del modelo \n",
    "# ==============================================================================\n",
    "rmse_ols = mean_squared_error(\n",
    "            y_true  = y_test,\n",
    "            y_pred  = clasificacion,\n",
    "            squared = False\n",
    "           )\n",
    "print(\"\")\n",
    "print(f\"El error (rmse) de test es: {rmse_ols}\")\n",
    "#El error (rmse) de test es: 0.5075303204590079"
   ]
  },
  {
   "cell_type": "code",
   "execution_count": 10,
   "id": "a1cc2ce9",
   "metadata": {},
   "outputs": [],
   "source": [
    "modelo2 = LogisticRegression(fit_intercept=True, penalty='l2', tol=1e-5, C=0.8, solver='lbfgs', max_iter=60,warm_start=True)\n",
    "#modelo = LogisticRegression()"
   ]
  },
  {
   "cell_type": "code",
   "execution_count": 11,
   "id": "8a5b21c9",
   "metadata": {},
   "outputs": [
    {
     "name": "stdout",
     "output_type": "stream",
     "text": [
      "accuracy in train: 0.8206975210468618\n",
      "accuracy in test: 0.8217473120963154\n"
     ]
    }
   ],
   "source": [
    "modelo2.fit(X_train, y_train)\n",
    "preds_train = modelo2.predict(X_train)\n",
    "preds_test = modelo2.predict(X_test)\n",
    "#lr.coef_\n",
    "print('accuracy in train:', accuracy_score(preds_train, y_train))\n",
    "print('accuracy in test:', accuracy_score(preds_test, y_test))"
   ]
  },
  {
   "cell_type": "code",
   "execution_count": 12,
   "id": "046b75db",
   "metadata": {},
   "outputs": [
    {
     "data": {
      "text/plain": [
       "array([0, 1, 1, 0, 0, 0, 0, 1, 0, 0])"
      ]
     },
     "execution_count": 12,
     "metadata": {},
     "output_type": "execute_result"
    }
   ],
   "source": [
    "# Predicciones test\n",
    "# ==============================================================================\n",
    "predicciones = modelo2.predict(X=X_test)\n",
    "predicciones = predicciones.flatten()\n",
    "predicciones[:10]"
   ]
  },
  {
   "cell_type": "code",
   "execution_count": 13,
   "id": "0dd82758",
   "metadata": {},
   "outputs": [],
   "source": [
    "# Creación y entrenamiento del modelo (con búsqueda por CV del valor óptimo alpha)\n",
    "# ==============================================================================\n",
    "# Por defecto RidgeCV utiliza el mean squared error\n",
    "modelo2 = RidgeCV(\n",
    "            alphas          = np.logspace(-10, 2, 200),\n",
    "            fit_intercept   = True,\n",
    "            normalize       = True,\n",
    "            store_cv_values = True\n",
    "         )\n",
    "\n",
    "_ = modelo2.fit(X = X_train, y = y_train)"
   ]
  },
  {
   "cell_type": "code",
   "execution_count": 14,
   "id": "77c575cb",
   "metadata": {},
   "outputs": [
    {
     "name": "stdout",
     "output_type": "stream",
     "text": [
      "Classification report of our model\n",
      "\n",
      "              precision    recall  f1-score   support\n",
      "\n",
      "           0       0.88      0.86      0.87    275810\n",
      "           1       0.70      0.74      0.72    124874\n",
      "\n",
      "    accuracy                           0.82    400684\n",
      "   macro avg       0.79      0.80      0.79    400684\n",
      "weighted avg       0.82      0.82      0.82    400684\n",
      "\n"
     ]
    }
   ],
   "source": [
    "print('Classification report of our model\\n')\n",
    "print(classification_report(preds_test, y_test))"
   ]
  },
  {
   "cell_type": "code",
   "execution_count": 15,
   "id": "83fc0ced",
   "metadata": {
    "scrolled": true
   },
   "outputs": [
    {
     "name": "stdout",
     "output_type": "stream",
     "text": [
      "\n",
      "El error (rmse) de test es: 0.4221998198764238\n"
     ]
    }
   ],
   "source": [
    "# Error de test del modelo \n",
    "# ==============================================================================\n",
    "rmse_ols = mean_squared_error(\n",
    "            y_true  = y_test,\n",
    "            y_pred  = predicciones,\n",
    "            squared = False\n",
    "           )\n",
    "print(\"\")\n",
    "print(f\"El error (rmse) de test es: {rmse_ols}\")"
   ]
  },
  {
   "cell_type": "code",
   "execution_count": 16,
   "id": "8e88baa9",
   "metadata": {},
   "outputs": [
    {
     "data": {
      "text/html": [
       "<div>\n",
       "<style scoped>\n",
       "    .dataframe tbody tr th:only-of-type {\n",
       "        vertical-align: middle;\n",
       "    }\n",
       "\n",
       "    .dataframe tbody tr th {\n",
       "        vertical-align: top;\n",
       "    }\n",
       "\n",
       "    .dataframe thead th {\n",
       "        text-align: right;\n",
       "    }\n",
       "</style>\n",
       "<table border=\"1\" class=\"dataframe\">\n",
       "  <thead>\n",
       "    <tr style=\"text-align: right;\">\n",
       "      <th></th>\n",
       "      <th>0</th>\n",
       "    </tr>\n",
       "  </thead>\n",
       "  <tbody>\n",
       "    <tr>\n",
       "      <th>const</th>\n",
       "      <td>0.000000</td>\n",
       "    </tr>\n",
       "    <tr>\n",
       "      <th>Anio_Nacimiento_final</th>\n",
       "      <td>0.000248</td>\n",
       "    </tr>\n",
       "    <tr>\n",
       "      <th>Anios_Duracion_Carrera_Origen_final</th>\n",
       "      <td>0.116762</td>\n",
       "    </tr>\n",
       "    <tr>\n",
       "      <th>Cantidad_asignaciones_final</th>\n",
       "      <td>0.124548</td>\n",
       "    </tr>\n",
       "    <tr>\n",
       "      <th>Quintil_Final</th>\n",
       "      <td>-0.090732</td>\n",
       "    </tr>\n",
       "    <tr>\n",
       "      <th>Tipo_Carrera_Origen_cod</th>\n",
       "      <td>-0.257085</td>\n",
       "    </tr>\n",
       "  </tbody>\n",
       "</table>\n",
       "</div>"
      ],
      "text/plain": [
       "                                            0\n",
       "const                                0.000000\n",
       "Anio_Nacimiento_final                0.000248\n",
       "Anios_Duracion_Carrera_Origen_final  0.116762\n",
       "Cantidad_asignaciones_final          0.124548\n",
       "Quintil_Final                       -0.090732\n",
       "Tipo_Carrera_Origen_cod             -0.257085"
      ]
     },
     "execution_count": 16,
     "metadata": {},
     "output_type": "execute_result"
    }
   ],
   "source": [
    "coefs = pd.DataFrame(modelo2.coef_, columns=X_train.columns).T\n",
    "coefs"
   ]
  },
  {
   "cell_type": "code",
   "execution_count": 17,
   "id": "6fce0370",
   "metadata": {},
   "outputs": [
    {
     "data": {
      "text/plain": [
       "const                                  1.000000\n",
       "Anio_Nacimiento_final                  1.000248\n",
       "Anios_Duracion_Carrera_Origen_final    1.123852\n",
       "Cantidad_asignaciones_final            1.132637\n",
       "Quintil_Final                          0.913262\n",
       "Tipo_Carrera_Origen_cod                0.773303\n",
       "Name: 0, dtype: float64"
      ]
     },
     "execution_count": 17,
     "metadata": {},
     "output_type": "execute_result"
    }
   ],
   "source": [
    "np.exp(coefs[0])"
   ]
  },
  {
   "cell_type": "code",
   "execution_count": 18,
   "id": "5c1e6d80",
   "metadata": {},
   "outputs": [
    {
     "data": {
      "text/plain": [
       "array([-0.16353548])"
      ]
     },
     "execution_count": 18,
     "metadata": {},
     "output_type": "execute_result"
    }
   ],
   "source": [
    "modelo2.intercept_"
   ]
  },
  {
   "cell_type": "markdown",
   "id": "26746b29",
   "metadata": {},
   "source": [
    "# Calculo para Cambio de carrera"
   ]
  },
  {
   "cell_type": "code",
   "execution_count": 19,
   "id": "5ad06b0a",
   "metadata": {},
   "outputs": [],
   "source": [
    "datos = pd.read_csv('DatosGuardados.csv', sep=\",\")"
   ]
  },
  {
   "cell_type": "code",
   "execution_count": 20,
   "id": "a6f3d00a",
   "metadata": {},
   "outputs": [
    {
     "name": "stdout",
     "output_type": "stream",
     "text": [
      "Número de observaciones por clase\n",
      "0    559563\n",
      "1     94571\n",
      "Name: Cambia_IES_final, dtype: int64\n",
      "\n",
      "Porcentaje de observaciones por clase\n",
      "0    85.542565\n",
      "1    14.457435\n",
      "Name: Cambia_IES_final, dtype: float64\n"
     ]
    }
   ],
   "source": [
    "print(\"Número de observaciones por clase\")\n",
    "print(datos['Cambia_IES_final'].value_counts())\n",
    "print(\"\")\n",
    "\n",
    "print(\"Porcentaje de observaciones por clase\")\n",
    "print(100 * datos['Cambia_IES_final'].value_counts(normalize=True))"
   ]
  },
  {
   "cell_type": "code",
   "execution_count": 21,
   "id": "b5c4dc77",
   "metadata": {},
   "outputs": [],
   "source": [
    "# División de los datos en train y test PARA GRATUIDAD\n",
    "# ==============================================================================\n",
    "X = datos[['Anios_Estudiando_Carrera_Origen_final','Anios_Estudiando_ES_final','Cantidad_Postulaciones_final']]\n",
    "y = datos['Cambia_IES_final']\n",
    "X_train, X_test, y_train, y_test = train_test_split(\n",
    "                                        X,\n",
    "                                        y.values.reshape(-1,1),\n",
    "                                        train_size   = 0.8, #regla 80-20%\n",
    "                                        random_state = 1234,\n",
    "                                        shuffle      = True\n",
    "                                    )"
   ]
  },
  {
   "cell_type": "code",
   "execution_count": 22,
   "id": "8502b735",
   "metadata": {},
   "outputs": [
    {
     "name": "stdout",
     "output_type": "stream",
     "text": [
      "Optimization terminated successfully.\n",
      "         Current function value: 0.299974\n",
      "         Iterations 7\n",
      "                                    Results: Logit\n",
      "=======================================================================================\n",
      "Model:                     Logit                   Pseudo R-squared:        0.274      \n",
      "Dependent Variable:        y                       AIC:                     313965.4180\n",
      "Date:                      2021-07-26 20:12        BIC:                     314010.0897\n",
      "No. Observations:          523307                  Log-Likelihood:          -1.5698e+05\n",
      "Df Model:                  3                       LL-Null:                 -2.1632e+05\n",
      "Df Residuals:              523303                  LLR p-value:             0.0000     \n",
      "Converged:                 1.0000                  Scale:                   1.0000     \n",
      "No. Iterations:            7.0000                                                      \n",
      "---------------------------------------------------------------------------------------\n",
      "                                       Coef.  Std.Err.     z     P>|z|   [0.025  0.975]\n",
      "---------------------------------------------------------------------------------------\n",
      "const                                 -4.2541   0.0146 -292.1394 0.0000 -4.2827 -4.2256\n",
      "Anios_Estudiando_Carrera_Origen_final -0.9676   0.0043 -224.4472 0.0000 -0.9761 -0.9592\n",
      "Anios_Estudiando_ES_final              1.1434   0.0046  250.5901 0.0000  1.1345  1.1524\n",
      "Cantidad_Postulaciones_final           0.4867   0.0049  100.0168 0.0000  0.4772  0.4962\n",
      "=======================================================================================\n",
      "\n"
     ]
    }
   ],
   "source": [
    "# Creación del modelo utilizando matrices como en scikitlearn\n",
    "# ==============================================================================\n",
    "# A la matriz de predictores se le tiene que añadir una columna de 1s para el intercept del modelo\n",
    "X_train = sm.add_constant(X_train, prepend=True)\n",
    "modelo = sm.Logit(endog=y_train, exog=X_train)\n",
    "modelo = modelo.fit()\n",
    "print(modelo.summary2())"
   ]
  },
  {
   "cell_type": "code",
   "execution_count": 23,
   "id": "e29f933f",
   "metadata": {},
   "outputs": [
    {
     "name": "stdout",
     "output_type": "stream",
     "text": [
      "                           Logit Regression Results                           \n",
      "==============================================================================\n",
      "Dep. Variable:                      y   No. Observations:               523307\n",
      "Model:                          Logit   Df Residuals:                   523303\n",
      "Method:                           MLE   Df Model:                            3\n",
      "Date:                Mon, 26 Jul 2021   Pseudo R-squ.:                  0.2743\n",
      "Time:                        20:12:58   Log-Likelihood:            -1.5698e+05\n",
      "converged:                       True   LL-Null:                   -2.1632e+05\n",
      "Covariance Type:            nonrobust   LLR p-value:                     0.000\n",
      "=========================================================================================================\n",
      "                                            coef    std err          z      P>|z|      [0.025      0.975]\n",
      "---------------------------------------------------------------------------------------------------------\n",
      "const                                    -4.2541      0.015   -292.139      0.000      -4.283      -4.226\n",
      "Anios_Estudiando_Carrera_Origen_final    -0.9676      0.004   -224.447      0.000      -0.976      -0.959\n",
      "Anios_Estudiando_ES_final                 1.1434      0.005    250.590      0.000       1.134       1.152\n",
      "Cantidad_Postulaciones_final              0.4867      0.005    100.017      0.000       0.477       0.496\n",
      "=========================================================================================================\n"
     ]
    }
   ],
   "source": [
    "#modelo = modelo.fit()\n",
    "print(modelo.summary())"
   ]
  },
  {
   "cell_type": "code",
   "execution_count": 24,
   "id": "5c76f716",
   "metadata": {},
   "outputs": [
    {
     "name": "stdout",
     "output_type": "stream",
     "text": [
      "El accuracy de test es: 86.4546309248091%\n"
     ]
    }
   ],
   "source": [
    "# Accuracy de test del modelo \n",
    "# ==============================================================================\n",
    "X_test = sm.add_constant(X_test, prepend=True)\n",
    "predicciones = modelo.predict(exog = X_test)\n",
    "clasificacion = np.where(predicciones<0.5, 0, 1)\n",
    "accuracy = accuracy_score(\n",
    "            y_true    = y_test,\n",
    "            y_pred    = clasificacion,\n",
    "            normalize = True\n",
    "           )\n",
    "print(f\"El accuracy de test es: {100*accuracy}%\")"
   ]
  },
  {
   "cell_type": "code",
   "execution_count": 25,
   "id": "26675abf",
   "metadata": {},
   "outputs": [
    {
     "name": "stdout",
     "output_type": "stream",
     "text": [
      "\n",
      "El error (rmse) de test es: 0.36804033848466805\n"
     ]
    }
   ],
   "source": [
    "# Error de test del modelo \n",
    "# ==============================================================================\n",
    "rmse_ols = mean_squared_error(\n",
    "            y_true  = y_test,\n",
    "            y_pred  = clasificacion,\n",
    "            squared = False\n",
    "           )\n",
    "print(\"\")\n",
    "print(f\"El error (rmse) de test es: {rmse_ols}\")\n",
    "#El error (rmse) de test es: 0.5075303204590079"
   ]
  },
  {
   "cell_type": "code",
   "execution_count": 26,
   "id": "455e6b60",
   "metadata": {},
   "outputs": [],
   "source": [
    "modelo2 = LogisticRegression(fit_intercept=True, penalty='l2', tol=1e-5, C=0.8, solver='lbfgs', max_iter=60,warm_start=True)\n",
    "#modelo = LogisticRegression()"
   ]
  },
  {
   "cell_type": "code",
   "execution_count": 27,
   "id": "0983e9c3",
   "metadata": {},
   "outputs": [
    {
     "name": "stdout",
     "output_type": "stream",
     "text": [
      "accuracy in train: 0.8636574706625365\n",
      "accuracy in test: 0.864546309248091\n"
     ]
    }
   ],
   "source": [
    "modelo2.fit(X_train, y_train)\n",
    "preds_train = modelo2.predict(X_train)\n",
    "preds_test = modelo2.predict(X_test)\n",
    "#lr.coef_\n",
    "print('accuracy in train:', accuracy_score(preds_train, y_train))\n",
    "print('accuracy in test:', accuracy_score(preds_test, y_test))"
   ]
  },
  {
   "cell_type": "code",
   "execution_count": 28,
   "id": "f6655092",
   "metadata": {},
   "outputs": [
    {
     "data": {
      "text/plain": [
       "array([0, 0, 0, 0, 0, 0, 1, 0, 0, 0])"
      ]
     },
     "execution_count": 28,
     "metadata": {},
     "output_type": "execute_result"
    }
   ],
   "source": [
    "# Predicciones test\n",
    "# ==============================================================================\n",
    "predicciones = modelo2.predict(X=X_test)\n",
    "predicciones = predicciones.flatten()\n",
    "predicciones[:10]"
   ]
  },
  {
   "cell_type": "code",
   "execution_count": 29,
   "id": "e70ecc4d",
   "metadata": {},
   "outputs": [],
   "source": [
    "# Creación y entrenamiento del modelo (con búsqueda por CV del valor óptimo alpha)\n",
    "# ==============================================================================\n",
    "# Por defecto RidgeCV utiliza el mean squared error\n",
    "modelo2 = RidgeCV(\n",
    "            alphas          = np.logspace(-10, 2, 200),\n",
    "            fit_intercept   = True,\n",
    "            normalize       = True,\n",
    "            store_cv_values = True\n",
    "         )\n",
    "\n",
    "_ = modelo2.fit(X = X_train, y = y_train)"
   ]
  },
  {
   "cell_type": "code",
   "execution_count": 30,
   "id": "eeac2923",
   "metadata": {},
   "outputs": [
    {
     "name": "stdout",
     "output_type": "stream",
     "text": [
      "Classification report of our model\n",
      "\n",
      "              precision    recall  f1-score   support\n",
      "\n",
      "           0       0.96      0.89      0.92    119791\n",
      "           1       0.32      0.55      0.41     11036\n",
      "\n",
      "    accuracy                           0.86    130827\n",
      "   macro avg       0.64      0.72      0.67    130827\n",
      "weighted avg       0.90      0.86      0.88    130827\n",
      "\n"
     ]
    }
   ],
   "source": [
    "print('Classification report of our model\\n')\n",
    "print(classification_report(preds_test, y_test))"
   ]
  },
  {
   "cell_type": "code",
   "execution_count": 31,
   "id": "4cc95454",
   "metadata": {},
   "outputs": [
    {
     "name": "stdout",
     "output_type": "stream",
     "text": [
      "\n",
      "El error (rmse) de test es: 0.36804033848466805\n"
     ]
    }
   ],
   "source": [
    "# Error de test del modelo \n",
    "# ==============================================================================\n",
    "rmse_ols = mean_squared_error(\n",
    "            y_true  = y_test,\n",
    "            y_pred  = predicciones,\n",
    "            squared = False\n",
    "           )\n",
    "print(\"\")\n",
    "print(f\"El error (rmse) de test es: {rmse_ols}\")"
   ]
  },
  {
   "cell_type": "code",
   "execution_count": 32,
   "id": "c8658c0e",
   "metadata": {},
   "outputs": [
    {
     "data": {
      "text/html": [
       "<div>\n",
       "<style scoped>\n",
       "    .dataframe tbody tr th:only-of-type {\n",
       "        vertical-align: middle;\n",
       "    }\n",
       "\n",
       "    .dataframe tbody tr th {\n",
       "        vertical-align: top;\n",
       "    }\n",
       "\n",
       "    .dataframe thead th {\n",
       "        text-align: right;\n",
       "    }\n",
       "</style>\n",
       "<table border=\"1\" class=\"dataframe\">\n",
       "  <thead>\n",
       "    <tr style=\"text-align: right;\">\n",
       "      <th></th>\n",
       "      <th>0</th>\n",
       "    </tr>\n",
       "  </thead>\n",
       "  <tbody>\n",
       "    <tr>\n",
       "      <th>const</th>\n",
       "      <td>0.000000</td>\n",
       "    </tr>\n",
       "    <tr>\n",
       "      <th>Anios_Estudiando_Carrera_Origen_final</th>\n",
       "      <td>-0.147709</td>\n",
       "    </tr>\n",
       "    <tr>\n",
       "      <th>Anios_Estudiando_ES_final</th>\n",
       "      <td>0.176975</td>\n",
       "    </tr>\n",
       "    <tr>\n",
       "      <th>Cantidad_Postulaciones_final</th>\n",
       "      <td>0.052679</td>\n",
       "    </tr>\n",
       "  </tbody>\n",
       "</table>\n",
       "</div>"
      ],
      "text/plain": [
       "                                              0\n",
       "const                                  0.000000\n",
       "Anios_Estudiando_Carrera_Origen_final -0.147709\n",
       "Anios_Estudiando_ES_final              0.176975\n",
       "Cantidad_Postulaciones_final           0.052679"
      ]
     },
     "execution_count": 32,
     "metadata": {},
     "output_type": "execute_result"
    }
   ],
   "source": [
    "coefs = pd.DataFrame(modelo2.coef_, columns=X_train.columns).T\n",
    "coefs"
   ]
  },
  {
   "cell_type": "code",
   "execution_count": 33,
   "id": "6ba4dd60",
   "metadata": {},
   "outputs": [
    {
     "data": {
      "text/plain": [
       "const                                    1.000000\n",
       "Anios_Estudiando_Carrera_Origen_final    0.862682\n",
       "Anios_Estudiando_ES_final                1.193601\n",
       "Cantidad_Postulaciones_final             1.054092\n",
       "Name: 0, dtype: float64"
      ]
     },
     "execution_count": 33,
     "metadata": {},
     "output_type": "execute_result"
    }
   ],
   "source": [
    "np.exp(coefs[0])"
   ]
  },
  {
   "cell_type": "code",
   "execution_count": 34,
   "id": "c155b3ce",
   "metadata": {},
   "outputs": [
    {
     "data": {
      "text/plain": [
       "array([-0.12810989])"
      ]
     },
     "execution_count": 34,
     "metadata": {},
     "output_type": "execute_result"
    }
   ],
   "source": [
    "modelo2.intercept_"
   ]
  },
  {
   "cell_type": "code",
   "execution_count": 35,
   "id": "b0d6aa3d",
   "metadata": {},
   "outputs": [
    {
     "data": {
      "text/html": [
       "<details>\n",
       "<summary>Click to view session information</summary>\n",
       "<pre>\n",
       "-----\n",
       "matplotlib          3.3.4\n",
       "numpy               1.19.5\n",
       "pandas              1.2.4\n",
       "session_info        1.0.0\n",
       "sklearn             0.24.1\n",
       "statsmodels         0.12.2\n",
       "-----\n",
       "</pre>\n",
       "<details>\n",
       "<summary>Click to view modules imported as dependencies</summary>\n",
       "<pre>\n",
       "PIL                 8.2.0\n",
       "anyio               NA\n",
       "attr                20.3.0\n",
       "babel               2.9.0\n",
       "backcall            0.2.0\n",
       "bottleneck          1.3.2\n",
       "brotli              NA\n",
       "certifi             2020.12.05\n",
       "cffi                1.14.5\n",
       "chardet             4.0.0\n",
       "colorama            0.4.4\n",
       "cycler              0.10.0\n",
       "cython_runtime      NA\n",
       "dateutil            2.8.1\n",
       "decorator           5.0.6\n",
       "idna                2.10\n",
       "ipykernel           5.3.4\n",
       "ipython_genutils    0.2.0\n",
       "jedi                0.17.2\n",
       "jinja2              2.11.3\n",
       "joblib              1.0.1\n",
       "json5               NA\n",
       "jsonschema          3.2.0\n",
       "jupyter_server      1.4.1\n",
       "jupyterlab_server   2.4.0\n",
       "kiwisolver          1.3.1\n",
       "markupsafe          1.1.1\n",
       "mpl_toolkits        NA\n",
       "nbclassic           NA\n",
       "nbformat            5.1.3\n",
       "numexpr             2.7.3\n",
       "packaging           20.9\n",
       "parso               0.7.0\n",
       "patsy               0.5.1\n",
       "pexpect             4.8.0\n",
       "pickleshare         0.7.5\n",
       "pkg_resources       NA\n",
       "prometheus_client   NA\n",
       "prompt_toolkit      3.0.17\n",
       "psutil              5.8.0\n",
       "ptyprocess          0.7.0\n",
       "pvectorc            NA\n",
       "pygments            2.8.1\n",
       "pyparsing           2.4.7\n",
       "pyrsistent          NA\n",
       "pytz                2021.1\n",
       "requests            2.25.1\n",
       "scipy               1.6.2\n",
       "send2trash          NA\n",
       "six                 1.15.0\n",
       "sniffio             1.2.0\n",
       "socks               1.7.1\n",
       "sphinxcontrib       NA\n",
       "storemagic          NA\n",
       "tornado             6.1\n",
       "traitlets           5.0.5\n",
       "typing_extensions   NA\n",
       "urllib3             1.26.4\n",
       "wcwidth             0.2.5\n",
       "zmq                 20.0.0\n",
       "zope                NA\n",
       "</pre>\n",
       "</details> <!-- seems like this ends pre, so might as well be explicit -->\n",
       "<pre>\n",
       "-----\n",
       "IPython             7.22.0\n",
       "jupyter_client      6.1.12\n",
       "jupyter_core        4.7.1\n",
       "jupyterlab          3.0.14\n",
       "notebook            6.3.0\n",
       "-----\n",
       "Python 3.8.8 (default, Apr 13 2021, 19:58:26) [GCC 7.3.0]\n",
       "Linux-5.8.0-63-generic-x86_64-with-glibc2.10\n",
       "-----\n",
       "Session information updated at 2021-07-26 20:13\n",
       "</pre>\n",
       "</details>"
      ],
      "text/plain": [
       "<IPython.core.display.HTML object>"
      ]
     },
     "execution_count": 35,
     "metadata": {},
     "output_type": "execute_result"
    }
   ],
   "source": [
    "#!pip install session_info\n",
    "import session_info\n",
    "session_info.show()"
   ]
  }
 ],
 "metadata": {
  "kernelspec": {
   "display_name": "Python 3",
   "language": "python",
   "name": "python3"
  },
  "language_info": {
   "codemirror_mode": {
    "name": "ipython",
    "version": 3
   },
   "file_extension": ".py",
   "mimetype": "text/x-python",
   "name": "python",
   "nbconvert_exporter": "python",
   "pygments_lexer": "ipython3",
   "version": "3.8.8"
  }
 },
 "nbformat": 4,
 "nbformat_minor": 5
}
