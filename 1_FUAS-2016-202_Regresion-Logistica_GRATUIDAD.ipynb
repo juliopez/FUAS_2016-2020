{
 "cells": [
  {
   "cell_type": "markdown",
   "id": "7a619016",
   "metadata": {},
   "source": [
    "https://www.cienciadedatos.net/documentos/py14-ridge-lasso-elastic-net-python.html"
   ]
  },
  {
   "cell_type": "code",
   "execution_count": 1,
   "id": "e5f09bf0",
   "metadata": {},
   "outputs": [],
   "source": [
    "# Tratamiento de datos\n",
    "# ==============================================================================\n",
    "import pandas as pd\n",
    "import numpy as np\n",
    "\n",
    "# Gráficos\n",
    "# ==============================================================================\n",
    "import matplotlib.pyplot as plt\n",
    "#from matplotlib import style\n",
    "#import seaborn as sns\n",
    "\n",
    "# Preprocesado y modelado\n",
    "# ==============================================================================\n",
    "from sklearn.linear_model import LogisticRegression\n",
    "from sklearn.model_selection import train_test_split\n",
    "#from sklearn.metrics import accuracy_score\n",
    "#from sklearn.metrics import plot_confusion_matrix\n",
    "import statsmodels.api as sm\n",
    "#import statsmodels.formula.api as smf\n",
    "from sklearn.metrics import roc_auc_score, accuracy_score, f1_score, confusion_matrix, classification_report\n",
    "from sklearn.metrics import mean_squared_error\n",
    "from sklearn.linear_model import RidgeCV\n",
    "from sklearn.linear_model import Ridge\n",
    "from scipy.stats import pearsonr\n",
    "from sklearn.model_selection import train_test_split\n",
    "from sklearn.metrics import mean_squared_error\n",
    "from sklearn.linear_model import LinearRegression\n",
    "from sklearn.linear_model import Ridge\n",
    "from sklearn.linear_model import Lasso\n",
    "from sklearn.linear_model import ElasticNet\n",
    "from sklearn.linear_model import RidgeCV\n",
    "from sklearn.linear_model import LassoCV\n",
    "from sklearn.linear_model import ElasticNetCV\n",
    "\n",
    "# Configuración matplotlib\n",
    "# ==============================================================================\n",
    "#plt.rcParams['image.cmap'] = \"bwr\"\n",
    "#plt.rcParams['figure.dpi'] = \"100\"\n",
    "#plt.rcParams['savefig.bbox'] = \"tight\"\n",
    "#style.use('ggplot') or plt.style.use('ggplot')\n",
    "\n",
    "# Configuración warnings\n",
    "# ==============================================================================\n",
    "import warnings\n",
    "warnings.filterwarnings('ignore')"
   ]
  },
  {
   "cell_type": "code",
   "execution_count": 2,
   "id": "9911cfc6",
   "metadata": {},
   "outputs": [],
   "source": [
    "datos = pd.read_csv('rutUnicos_final.csv', sep=\";\")"
   ]
  },
  {
   "cell_type": "code",
   "execution_count": 3,
   "id": "b26d5301",
   "metadata": {},
   "outputs": [],
   "source": [
    "# Reemplazo variables categoricas, utilizaremos LabelEncoder\n",
    "#========================================================================\n",
    "from sklearn.preprocessing import LabelEncoder, OneHotEncoder, MinMaxScaler, Normalizer\n",
    "Columnas_Categoricas=['Mensualidad_Establecimiento_final', 'Region_Establecimiento_final','Segunda_Institucion_ES_final']\n",
    "df_prep=datos\n",
    "LabelsEnc = LabelEncoder()\n",
    "for i in Columnas_Categoricas:\n",
    "  df_prep[i] = LabelsEnc.fit_transform(datos[i])\n",
    "datos=df_prep"
   ]
  },
  {
   "cell_type": "code",
   "execution_count": 4,
   "id": "baf81e3b",
   "metadata": {},
   "outputs": [],
   "source": [
    "# División de los datos en train y test\n",
    "# ==============================================================================\n",
    "#X = datos[['Anio_Nacimiento_final','Quintil_Final','Sexo_cod','Anio_Egreso_EM_final','Nota_Egreso_EM_final2','Mensualidad_Establecimiento_final','Region_Establecimiento_final','Anios_Estudiando_ES_final','Dependencia_Establecimiento_cod']]\n",
    "#X = datos[['Anio_Egreso_EM_final','Anio_Inicio_Gratuidad_final','Anio_Nacimiento_final','Anios_con_Gratuidad_final','Anios_Duracion_Carrera_Origen_final','Anios_Estudiando_Carrera_Origen_final','Anios_Estudiando_ES_final','Cantidad_asignaciones_final','Cantidad_Postulaciones_final','Dependencia_Establecimiento_cod','Institucio_Inicio_Gratuidad_cod','Mensualidad_Establecimiento_final','Nota_Egreso_EM_final2','Quintil_Final','Region_Establecimiento_final','Segunda_Institucion_ES_final','Sexo_cod','Tipo_Carrera_Origen_cod']]\n",
    "X = datos[['Anio_Egreso_EM_final','Anio_Nacimiento_final','Anios_Duracion_Carrera_Origen_final','Anios_Estudiando_Carrera_Origen_final','Anios_Estudiando_ES_final','Cantidad_asignaciones_final','Cantidad_Postulaciones_final','Dependencia_Establecimiento_cod','Mensualidad_Establecimiento_final','Nota_Egreso_EM_final2','Quintil_Final','Region_Establecimiento_final','Segunda_Institucion_ES_final','Sexo_cod','Tipo_Carrera_Origen_cod']]\n",
    "y = datos['Gana_Gratuidad_final']\n",
    "X_train, X_test, y_train, y_test = train_test_split(\n",
    "                                        X,\n",
    "                                        y.values.reshape(-1,1),\n",
    "                                        train_size   = 0.8, #regla 80-20%\n",
    "                                        random_state = 1234,\n",
    "                                        shuffle      = True\n",
    "                                    )"
   ]
  },
  {
   "cell_type": "markdown",
   "id": "96ad9953",
   "metadata": {},
   "source": [
    "# Aunque el valor óptimo de  λ  es aquel con el que se minimiza el error de validación cruzada, una práctica extendida es utilizar, en lugar de este, el mayor valor de  λ  que se aleja menos de una desviación típica del óptimo. De este modo, se consigue un modelo más sencillo (excluye más predictores) pero cuya capacidad predictiva es similar a la conseguida con el modelo más complejo.\n",
    "\n",
    "## Nota: scikitlearn utiliza el argumento alpha para hacer referencia a lambda y el argumento l1ratio para referirse a alpha."
   ]
  },
  {
   "cell_type": "markdown",
   "id": "2710db7f",
   "metadata": {},
   "source": [
    "# Encontrar el mejor modelo implica identificar el valor óptimo del hiperparámetro de regularización lambda ( λ ). Al tratarse de un hiperparámetro, no hay forma de saber de antemano qué valor es el adecuado. Una forma de lograrlo es emplear validación cruzada o generalized cross validation, esta última es una adaptación eficiente de leave-one-out cross validation disponible para la regulación Ridge. Con scikit learn esto puede conseguirse fácilmente de dos formas:\n",
    "\n",
    "# Combinar GridSearchCV y un modelo de tipo Ridge, Lasso o ElasticNet.\n",
    "\n",
    "# Emplear RidgeCV, LassoCV o ElasticNetCV. Son adaptaciones que incorporan validación cruzada. Si no se indica nada en el argumento cv, en RidgeCV, se aplica Generalized Cross-Validation (GCV). Si se le indica un valor entero, se aplica validación cruzada con GridSearchCV. Por ejemplo cv=10 equivale a 10-fold cross-validation, en lugar de Generalized Cross-Validation.\n",
    "\n",
    "# Por lo general, las versiones que incorporan la validación cruzada son más directas y cómodas de utilizar, sin embargo, hay situaciones para las que no son adecuadas. Por ejemplo, si los datos tienen un orden temporal (series temporales),"
   ]
  },
  {
   "cell_type": "code",
   "execution_count": 5,
   "id": "bfa6d926",
   "metadata": {},
   "outputs": [],
   "source": [
    "# Creación y entrenamiento del modelo (con búsqueda por CV del valor óptimo alpha)\n",
    "# ==============================================================================\n",
    "# Por defecto LassoCV utiliza el mean squared error\n",
    "modelo = LassoCV(\n",
    "            alphas          = np.logspace(-10, 3, 200),\n",
    "            normalize       = True,\n",
    "            cv              = 10\n",
    "         )\n",
    "_ = modelo.fit(X = X_train, y = y_train)"
   ]
  },
  {
   "cell_type": "markdown",
   "id": "c193534a",
   "metadata": {},
   "source": [
    "# Cuando se utiliza regularización, es útil evaluar cómo se aproximan a cero los coeficientes a medida  que se incrementa el valor de alpha así como la evolución del error de validación cruzada en función del alpha empleado."
   ]
  },
  {
   "cell_type": "code",
   "execution_count": 6,
   "id": "8b2d842f",
   "metadata": {},
   "outputs": [],
   "source": [
    "# Evolución de los coeficientes en función de alpha\n",
    "# ==============================================================================\n",
    "alphas = modelo.alphas_\n",
    "coefs = []\n",
    "\n",
    "for alpha in alphas:\n",
    "    modelo_temp = Lasso(alpha=alpha, fit_intercept=False, normalize=True)\n",
    "    modelo_temp.fit(X_train, y_train)\n",
    "    coefs.append(modelo_temp.coef_.flatten())"
   ]
  },
  {
   "cell_type": "code",
   "execution_count": 20,
   "id": "116252e5",
   "metadata": {},
   "outputs": [
    {
     "data": {
      "image/png": "[encoded data removed]",
      "text/plain": [
       "<Figure size 1080x360 with 1 Axes>"
      ]
     },
     "metadata": {
      "needs_background": "light"
     },
     "output_type": "display_data"
    }
   ],
   "source": [
    "fig, ax = plt.subplots(figsize=(15, 5))\n",
    "ax.plot(alphas, coefs)\n",
    "ax.set_xscale('log')\n",
    "ax.set_ylim([-0.3,0.2])\n",
    "ax.set_xlabel('alpha')\n",
    "ax.set_ylabel('coeficientes')\n",
    "ax.set_title('Coeficientes del modelo en función de la regularización');"
   ]
  },
  {
   "cell_type": "markdown",
   "id": "f4ad3cd3",
   "metadata": {},
   "source": [
    "# Puede ver se como, a medida que aumenta el valor de alpha, la regularización es mayor y más predictores quedan excluidos (su coeficiente es 0)."
   ]
  },
  {
   "cell_type": "code",
   "execution_count": 8,
   "id": "a1cc2ce9",
   "metadata": {},
   "outputs": [],
   "source": [
    "# Número de predictores incluidos (coeficiente !=0) en función de alpha\n",
    "# ==============================================================================\n",
    "alphas = modelo.alphas_\n",
    "n_predictores = []\n",
    "\n",
    "for alpha in alphas:\n",
    "    modelo_temp = Lasso(alpha=alpha, fit_intercept=False, normalize=True)\n",
    "    modelo_temp.fit(X_train, y_train)\n",
    "    coef_no_cero = np.sum(modelo_temp.coef_.flatten() != 0)\n",
    "    n_predictores.append(coef_no_cero)"
   ]
  },
  {
   "cell_type": "code",
   "execution_count": 21,
   "id": "7f485f69",
   "metadata": {},
   "outputs": [
    {
     "data": {
      "image/png": "[encoded data removed]",
      "text/plain": [
       "<Figure size 1080x360 with 1 Axes>"
      ]
     },
     "metadata": {
      "needs_background": "light"
     },
     "output_type": "display_data"
    }
   ],
   "source": [
    "fig, ax = plt.subplots(figsize=(15, 5))\n",
    "ax.plot(alphas, n_predictores)\n",
    "ax.set_xscale('log')A\n",
    "ax.set_ylim([-1,20])\n",
    "ax.set_xlabel('alpha')\n",
    "ax.set_ylabel('nº predictores')\n",
    "ax.set_title('Predictores incluidos en función de la regularización');"
   ]
  },
  {
   "cell_type": "code",
   "execution_count": 10,
   "id": "8a5b21c9",
   "metadata": {},
   "outputs": [
    {
     "data": {
      "image/png": "[encoded data removed]",
      "text/plain": [
       "<Figure size 1080x360 with 1 Axes>"
      ]
     },
     "metadata": {
      "needs_background": "light"
     },
     "output_type": "display_data"
    }
   ],
   "source": [
    "# Evolución del error en función de alpha\n",
    "# ==============================================================================\n",
    "# modelo.mse_path_ almacena el mse de cv para cada valor de alpha. Tiene\n",
    "# dimensiones (n_alphas, n_folds)\n",
    "mse_cv = modelo.mse_path_.mean(axis=1)\n",
    "mse_sd = modelo.mse_path_.std(axis=1)\n",
    "\n",
    "# Se aplica la raíz cuadrada para pasar de mse a rmse\n",
    "rmse_cv = np.sqrt(mse_cv)\n",
    "rmse_sd = np.sqrt(mse_sd)\n",
    "\n",
    "# Se identifica el óptimo y el óptimo + 1std\n",
    "min_rmse     = np.min(rmse_cv)\n",
    "sd_min_rmse  = rmse_sd[np.argmin(rmse_cv)]\n",
    "min_rsme_1sd = np.max(rmse_cv[rmse_cv <= min_rmse + sd_min_rmse])\n",
    "optimo       = modelo.alphas_[np.argmin(rmse_cv)]\n",
    "optimo_1sd   = modelo.alphas_[rmse_cv == min_rsme_1sd]\n",
    "\n",
    "# Gráfico del error +- 1 desviación estándar\n",
    "fig, ax = plt.subplots(figsize=(15, 5))\n",
    "ax.plot(modelo.alphas_, rmse_cv)\n",
    "ax.fill_between(\n",
    "    modelo.alphas_,\n",
    "    rmse_cv + rmse_sd,\n",
    "    rmse_cv - rmse_sd,\n",
    "    alpha=0.2\n",
    ")\n",
    "\n",
    "ax.axvline(\n",
    "    x         = optimo,\n",
    "    c         = \"green\",\n",
    "    linestyle = '--',\n",
    "    label     = 'óptimo'\n",
    ")\n",
    "\n",
    "ax.axvline(\n",
    "    x         = optimo_1sd,\n",
    "    c         = \"red\",\n",
    "    linestyle = '--',\n",
    "    label     = 'óptimo_1sd'\n",
    ")\n",
    "\n",
    "ax.set_xscale('log')\n",
    "ax.set_ylim([0,None])\n",
    "ax.set_title('Evolución del error CV en función de la regularización')\n",
    "ax.set_xlabel('alpha')\n",
    "ax.set_ylabel('RMSE')\n",
    "plt.legend();"
   ]
  },
  {
   "cell_type": "code",
   "execution_count": 11,
   "id": "b5a29382",
   "metadata": {
    "scrolled": true
   },
   "outputs": [
    {
     "name": "stdout",
     "output_type": "stream",
     "text": [
      "Mejor valor de alpha encontrado: 1e-10\n"
     ]
    }
   ],
   "source": [
    "# Mejor valor alpha encontrado\n",
    "# ==============================================================================\n",
    "print(f\"Mejor valor de alpha encontrado: {modelo.alpha_}\")"
   ]
  },
  {
   "cell_type": "code",
   "execution_count": 12,
   "id": "046b75db",
   "metadata": {},
   "outputs": [
    {
     "name": "stdout",
     "output_type": "stream",
     "text": [
      "Mejor valor de alpha encontrado + 1 desviación estándar: [2.27396575e-05]\n"
     ]
    }
   ],
   "source": [
    "# Mejor valor alpha encontrado + 1sd\n",
    "# ==============================================================================\n",
    "min_rmse     = np.min(rmse_cv)\n",
    "sd_min_rmse  = rmse_sd[np.argmin(rmse_cv)]\n",
    "min_rsme_1sd = np.max(rmse_cv[rmse_cv <= min_rmse + sd_min_rmse])\n",
    "optimo       = modelo.alphas_[np.argmin(rmse_cv)]\n",
    "optimo_1sd   = modelo.alphas_[rmse_cv == min_rsme_1sd]\n",
    "\n",
    "print(f\"Mejor valor de alpha encontrado + 1 desviación estándar: {optimo_1sd}\")"
   ]
  },
  {
   "cell_type": "markdown",
   "id": "de425607",
   "metadata": {},
   "source": [
    "# Se entrena de nuevo el modelo, esta vez empleando el mayor valor de alpha cuyo error está a menos de una desviación típica del mínimo encontrado en la validación cruzada."
   ]
  },
  {
   "cell_type": "code",
   "execution_count": 13,
   "id": "0dd82758",
   "metadata": {},
   "outputs": [
    {
     "data": {
      "text/plain": [
       "Lasso(alpha=array([2.27396575e-05]), normalize=True)"
      ]
     },
     "execution_count": 13,
     "metadata": {},
     "output_type": "execute_result"
    }
   ],
   "source": [
    "# Mejor modelo alpha óptimo + 1sd\n",
    "# ==============================================================================\n",
    "modelo = Lasso(alpha=optimo_1sd, normalize=True)\n",
    "modelo.fit(X_train, y_train)"
   ]
  },
  {
   "cell_type": "code",
   "execution_count": 14,
   "id": "dee6dad1",
   "metadata": {},
   "outputs": [
    {
     "data": {
      "text/html": [
       "<div>\n",
       "<style scoped>\n",
       "    .dataframe tbody tr th:only-of-type {\n",
       "        vertical-align: middle;\n",
       "    }\n",
       "\n",
       "    .dataframe tbody tr th {\n",
       "        vertical-align: top;\n",
       "    }\n",
       "\n",
       "    .dataframe thead th {\n",
       "        text-align: right;\n",
       "    }\n",
       "</style>\n",
       "<table border=\"1\" class=\"dataframe\">\n",
       "  <thead>\n",
       "    <tr style=\"text-align: right;\">\n",
       "      <th></th>\n",
       "      <th>predictor</th>\n",
       "      <th>coef</th>\n",
       "    </tr>\n",
       "  </thead>\n",
       "  <tbody>\n",
       "    <tr>\n",
       "      <th>1</th>\n",
       "      <td>Anio_Nacimiento_final</td>\n",
       "      <td>0.000141</td>\n",
       "    </tr>\n",
       "    <tr>\n",
       "      <th>2</th>\n",
       "      <td>Anios_Duracion_Carrera_Origen_final</td>\n",
       "      <td>0.068036</td>\n",
       "    </tr>\n",
       "    <tr>\n",
       "      <th>5</th>\n",
       "      <td>Cantidad_asignaciones_final</td>\n",
       "      <td>0.118045</td>\n",
       "    </tr>\n",
       "    <tr>\n",
       "      <th>10</th>\n",
       "      <td>Quintil_Final</td>\n",
       "      <td>-0.056552</td>\n",
       "    </tr>\n",
       "    <tr>\n",
       "      <th>14</th>\n",
       "      <td>Tipo_Carrera_Origen_cod</td>\n",
       "      <td>-0.155158</td>\n",
       "    </tr>\n",
       "  </tbody>\n",
       "</table>\n",
       "</div>"
      ],
      "text/plain": [
       "                              predictor      coef\n",
       "1                 Anio_Nacimiento_final  0.000141\n",
       "2   Anios_Duracion_Carrera_Origen_final  0.068036\n",
       "5           Cantidad_asignaciones_final  0.118045\n",
       "10                        Quintil_Final -0.056552\n",
       "14              Tipo_Carrera_Origen_cod -0.155158"
      ]
     },
     "execution_count": 14,
     "metadata": {},
     "output_type": "execute_result"
    }
   ],
   "source": [
    "# Coeficientes del modelo\n",
    "# ==============================================================================\n",
    "df_coeficientes = pd.DataFrame(\n",
    "                        {'predictor': X_train.columns,\n",
    "                         'coef': modelo.coef_.flatten()}\n",
    "                  )\n",
    "\n",
    "# Predictores incluidos en el modelo (coeficiente != 0)\n",
    "df_coeficientes[df_coeficientes.coef != 0]"
   ]
  },
  {
   "cell_type": "code",
   "execution_count": 15,
   "id": "84e79034",
   "metadata": {},
   "outputs": [
    {
     "data": {
      "image/png": "[encoded data removed]",
      "text/plain": [
       "<Figure size 792x276.48 with 1 Axes>"
      ]
     },
     "metadata": {
      "needs_background": "light"
     },
     "output_type": "display_data"
    }
   ],
   "source": [
    "fig, ax = plt.subplots(figsize=(11, 3.84))\n",
    "ax.stem(df_coeficientes.predictor, df_coeficientes.coef, markerfmt=' ')\n",
    "plt.xticks(rotation=90, ha='right', size=5)\n",
    "ax.set_xlabel('variable')\n",
    "ax.set_ylabel('coeficientes')\n",
    "ax.set_title('Coeficientes del modelo');"
   ]
  },
  {
   "cell_type": "code",
   "execution_count": 16,
   "id": "bcc24480",
   "metadata": {},
   "outputs": [
    {
     "data": {
      "text/plain": [
       "array([-0.02235966,  0.42063961,  0.51974111, -0.0410203 ,  0.02645052,\n",
       "        0.38380973,  0.02701609,  0.68680746,  0.39472876,  0.12835229])"
      ]
     },
     "execution_count": 16,
     "metadata": {},
     "output_type": "execute_result"
    }
   ],
   "source": [
    "# Predicciones test\n",
    "# ==============================================================================\n",
    "predicciones = modelo.predict(X=X_test)\n",
    "predicciones = predicciones.flatten()\n",
    "predicciones[:10]"
   ]
  },
  {
   "cell_type": "code",
   "execution_count": 17,
   "id": "a3703aec",
   "metadata": {},
   "outputs": [
    {
     "name": "stdout",
     "output_type": "stream",
     "text": [
      "\n",
      "El error (rmse) de test es: 0.35298561157541614\n"
     ]
    }
   ],
   "source": [
    "# Error de test del modelo \n",
    "# ==============================================================================\n",
    "rmse_lasso = mean_squared_error(\n",
    "                y_true  = y_test,\n",
    "                y_pred  = predicciones,\n",
    "                squared = False\n",
    "             )\n",
    "print(\"\")\n",
    "print(f\"El error (rmse) de test es: {rmse_lasso}\")"
   ]
  },
  {
   "cell_type": "code",
   "execution_count": null,
   "id": "a0390c80",
   "metadata": {},
   "outputs": [],
   "source": []
  }
 ],
 "metadata": {
  "kernelspec": {
   "display_name": "Python 3",
   "language": "python",
   "name": "python3"
  },
  "language_info": {
   "codemirror_mode": {
    "name": "ipython",
    "version": 3
   },
   "file_extension": ".py",
   "mimetype": "text/x-python",
   "name": "python",
   "nbconvert_exporter": "python",
   "pygments_lexer": "ipython3",
   "version": "3.8.8"
  }
 },
 "nbformat": 4,
 "nbformat_minor": 5
}
